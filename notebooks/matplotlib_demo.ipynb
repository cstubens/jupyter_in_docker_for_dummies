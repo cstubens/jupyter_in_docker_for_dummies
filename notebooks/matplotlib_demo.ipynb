{
 "cells": [
  {
   "cell_type": "code",
   "execution_count": null,
   "id": "extreme-feelings",
   "metadata": {},
   "outputs": [],
   "source": [
    "import random\n",
    "import numpy as np\n",
    "import matplotlib.pyplot as plt\n",
    "\n",
    "\n",
    "def polka(n):\n",
    "  x = [random.random() for _ in range(n)]\n",
    "  y = [random.random() for _ in range(n)]\n",
    "  colors = [random.random() for _ in range(n)]\n",
    "  area = [1500 * random.random() for _ in range(n)]\n",
    "  plt.scatter(x, y, s=area, c=colors, alpha=0.5)\n",
    "  plt.show()\n",
    "\n",
    "\n",
    "polka(50)"
   ]
  },
  {
   "cell_type": "code",
   "execution_count": null,
   "id": "appropriate-chester",
   "metadata": {},
   "outputs": [],
   "source": []
  }
 ],
 "metadata": {
  "kernelspec": {
   "display_name": "Python 3",
   "language": "python",
   "name": "python3"
  },
  "language_info": {
   "codemirror_mode": {
    "name": "ipython",
    "version": 3
   },
   "file_extension": ".py",
   "mimetype": "text/x-python",
   "name": "python",
   "nbconvert_exporter": "python",
   "pygments_lexer": "ipython3",
   "version": "3.8.7"
  }
 },
 "nbformat": 4,
 "nbformat_minor": 5
}
